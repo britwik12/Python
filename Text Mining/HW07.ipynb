{
 "cells": [
  {
   "cell_type": "markdown",
   "metadata": {},
   "source": [
    "# HW07 Corpus Comparison\n",
    "\n",
    "In class, we studied corpus properties using the novel *Emma* by Jane Austen. This homework asks you to run similar analysis for another novel, *Sense and Sensibility*, also by Jane Austen. Both novels are available in the `gutenberg` corpus of the `nltk` module."
   ]
  },
  {
   "cell_type": "code",
   "execution_count": 1,
   "metadata": {},
   "outputs": [
    {
     "name": "stdout",
     "output_type": "stream",
     "text": [
      "['austen-emma.txt', 'austen-persuasion.txt', 'austen-sense.txt', 'bible-kjv.txt', 'blake-poems.txt', 'bryant-stories.txt', 'burgess-busterbrown.txt', 'carroll-alice.txt', 'chesterton-ball.txt', 'chesterton-brown.txt', 'chesterton-thursday.txt', 'edgeworth-parents.txt', 'melville-moby_dick.txt', 'milton-paradise.txt', 'shakespeare-caesar.txt', 'shakespeare-hamlet.txt', 'shakespeare-macbeth.txt', 'whitman-leaves.txt']\n",
      "-----------------------\n",
      "[Emma by Jane Austen 1816]\n",
      "\n",
      "VOLUME I\n",
      "\n",
      "CHAPTER I\n",
      "\n",
      "\n",
      "Emma Woodhouse, handsome, clever, and rich, with a\n",
      "-----------------------\n",
      "[Sense and Sensibility by Jane Austen 1811]\n",
      "\n",
      "CHAPTER 1\n",
      "\n",
      "\n",
      "The family of Dashwood had long been settle\n"
     ]
    },
    {
     "name": "stderr",
     "output_type": "stream",
     "text": [
      "[nltk_data] Downloading package gutenberg to\n",
      "[nltk_data]     C:\\Users\\Ritwik\\AppData\\Roaming\\nltk_data...\n",
      "[nltk_data]   Package gutenberg is already up-to-date!\n"
     ]
    }
   ],
   "source": [
    "# Run this once:\n",
    "import nltk\n",
    "nltk.download('gutenberg')\n",
    "from nltk.corpus import gutenberg\n",
    "\n",
    "# List files available in this corpus\n",
    "print(gutenberg.fileids())\n",
    "\n",
    "emma = gutenberg.raw('austen-emma.txt')\n",
    "print('-----------------------')\n",
    "print(emma[0:100])\n",
    "\n",
    "sense = gutenberg.raw('austen-sense.txt')\n",
    "print('-----------------------')\n",
    "print(sense[0:100])"
   ]
  },
  {
   "cell_type": "markdown",
   "metadata": {},
   "source": [
    "## 1. General Document Features (20 points)\n",
    "\n",
    "We may load the two novels as raw text (`gutenberg.raw()`), by paragraphs (`gutenberg.paras()`), by sentences (`gutenberg.sents()`), or words (`gutenberg.words()`). Using these functions, compare the two novels by the following features:\n",
    "\n",
    "* Number of characters, words, sentences, and paragraphs.\n",
    "* The average length of words (by the number of characters), sentences (by the number of words), and paragraphs (by the number of sentences).\n",
    "\n",
    "Note: use Python program to print out the numbers, and then, summarize the findings in your own words."
   ]
  },
  {
   "cell_type": "code",
   "execution_count": 2,
   "metadata": {},
   "outputs": [
    {
     "name": "stderr",
     "output_type": "stream",
     "text": [
      "[nltk_data] Downloading package punkt to\n",
      "[nltk_data]     C:\\Users\\Ritwik\\AppData\\Roaming\\nltk_data...\n",
      "[nltk_data]   Package punkt is already up-to-date!\n"
     ]
    },
    {
     "data": {
      "text/plain": [
       "True"
      ]
     },
     "execution_count": 2,
     "metadata": {},
     "output_type": "execute_result"
    }
   ],
   "source": [
    "import nltk\n",
    "nltk.download('punkt')"
   ]
  },
  {
   "cell_type": "code",
   "execution_count": 3,
   "metadata": {},
   "outputs": [
    {
     "name": "stdout",
     "output_type": "stream",
     "text": [
      "887071\n",
      "192427\n",
      "7752\n",
      "2371\n"
     ]
    }
   ],
   "source": [
    "## Number of Characters in Emma\n",
    "print(len(emma))\n",
    "\n",
    "## Number of Words in Emma\n",
    "emma_words = gutenberg.words('austen-emma.txt')\n",
    "print(len(emma_words))\n",
    "\n",
    "## Number of Sentences in Emma\n",
    "emma_sents = gutenberg.sents('austen-emma.txt')\n",
    "print(len(emma_sents))\n",
    "\n",
    "## Number of Paragraphs in Emma\n",
    "emma_para = gutenberg.paras('austen-emma.txt')\n",
    "print(len(emma_para))"
   ]
  },
  {
   "cell_type": "code",
   "execution_count": 4,
   "metadata": {},
   "outputs": [
    {
     "name": "stdout",
     "output_type": "stream",
     "text": [
      "673022\n",
      "141576\n",
      "4999\n",
      "1862\n"
     ]
    }
   ],
   "source": [
    "## Number of Characters in Sense\n",
    "print(len(sense))\n",
    "\n",
    "## Number of Words in Emma\n",
    "sense_words = gutenberg.words('austen-sense.txt')\n",
    "print(len(sense_words))\n",
    "\n",
    "## Number of Sentences in Emma\n",
    "sense_sents = gutenberg.sents('austen-sense.txt')\n",
    "print(len(sense_sents))\n",
    "\n",
    "## Number of Paragraphs in Emma\n",
    "sense_para = gutenberg.paras('austen-sense.txt')\n",
    "print(len(sense_para))"
   ]
  },
  {
   "cell_type": "code",
   "execution_count": 5,
   "metadata": {},
   "outputs": [
    {
     "name": "stdout",
     "output_type": "stream",
     "text": [
      "Average Length of Word in Emma: 3.755268231589122\n",
      "Average Length of Sentence in Emma: 24.822884416924666\n",
      "Average Length of Para in Emma: 3.2695065373260226\n",
      "Average Length of Word in Sense: 3.881371136350794\n",
      "Average Length of Sentence in Sense: 28.32086417283457\n",
      "Average Length of Para in Sense: 2.6847475832438237\n"
     ]
    }
   ],
   "source": [
    "#Average Word Length for Emma\n",
    "emma_avg_words = len([char for word in gutenberg.words('austen-emma.txt') for char in word ])/len(gutenberg.words('austen-emma.txt'))\n",
    "print(\"Average Length of Word in Emma:\",emma_avg_words)\n",
    "\n",
    "#Average Sentence Length for Emma\n",
    "emma_avg_sent = len(gutenberg.words('austen-emma.txt'))/len(gutenberg.sents('austen-emma.txt'))\n",
    "print(\"Average Length of Sentence in Emma:\",emma_avg_sent)\n",
    "\n",
    "#Average Para Length for Emma\n",
    "emma_avg_para = len(gutenberg.sents('austen-emma.txt'))/len(gutenberg.paras('austen-emma.txt'))\n",
    "print(\"Average Length of Para in Emma:\",emma_avg_para)\n",
    "\n",
    "#Average Word Length for Sense\n",
    "sense_avg_words=len([char for word in gutenberg.words('austen-sense.txt') for char in word ])/len(gutenberg.words('austen-sense.txt'))\n",
    "print(\"Average Length of Word in Sense:\",sense_avg_words)\n",
    "\n",
    "#Average Sentence Length for Sense\n",
    "sense_avg_sent=len(gutenberg.words('austen-sense.txt'))/len(gutenberg.sents('austen-sense.txt'))\n",
    "print(\"Average Length of Sentence in Sense:\",sense_avg_sent)\n",
    "\n",
    "#Average Para Length for Sense\n",
    "sense_avg_para=len(gutenberg.sents('austen-sense.txt'))/len(gutenberg.paras('austen-sense.txt'))\n",
    "print(\"Average Length of Para in Sense:\",sense_avg_para)"
   ]
  },
  {
   "cell_type": "markdown",
   "metadata": {},
   "source": [
    "Response: The novel Sense and Sensibility in relatively small than the Novel Emma, in terms of characters, words, sentences, or paragraphs. This does not come up as a surprise since an increase in one would lead to an increase in the rest of the structures. The novel 'Emma' has about 500 more paragraphs, 2750 more sentences, 50000 more words, and 214000 more characters as comapred to the novel 'Sense and Sensibility.'"
   ]
  },
  {
   "cell_type": "markdown",
   "metadata": {},
   "source": [
    "## 2. Create Corpus\n",
    "\n",
    "In this part, suppose we plan to compare word frequencies between the two novels. In order to share the same vocabulary indexing, we shall treat each novel as a document and create a corpus of two documents. Take the following steps.\n",
    "\n",
    "### a) Text Preprocessing (5 points)\n",
    "\n",
    "Remove punctuation from raw text and convert each novel into a list of clean tokens. The following sample code is adapted from class example. Be sure to apply it to the 2nd novel (Sense and Sensibility) document. Note: we do not drop stopwords in this assignment."
   ]
  },
  {
   "cell_type": "code",
   "execution_count": 6,
   "metadata": {},
   "outputs": [],
   "source": [
    "# remove punctuation\n",
    "import re\n",
    "def remove_characters_before_tokenization(sentence):\n",
    "    sentence = sentence.strip()\n",
    "    PATTERN = r'[^a-zA-Z0-9 ]'\n",
    "    filtered_sentence = re.sub(PATTERN, r' ', sentence)\n",
    "    return filtered_sentence\n",
    "\n",
    "emma = remove_characters_before_tokenization(emma) \n",
    "emma[0:100]\n",
    "\n",
    "# split into tokens\n",
    "emma_tokens = emma.lower().strip().split()\n",
    "\n",
    "# process `sense` here\n",
    "sense = remove_characters_before_tokenization(sense) \n",
    "sense[0:100]\n",
    "\n",
    "# split into tokens\n",
    "sense_tokens = sense.lower().strip().split()"
   ]
  },
  {
   "cell_type": "markdown",
   "metadata": {},
   "source": [
    "### b) Create Shared Dictionary and Summarize Term Frequencies (15 points)\n",
    "\n",
    "First, create a list of these two documents, each represented as a list of tokens from the previous step."
   ]
  },
  {
   "cell_type": "code",
   "execution_count": 7,
   "metadata": {},
   "outputs": [
    {
     "data": {
      "text/plain": [
       "list"
      ]
     },
     "execution_count": 7,
     "metadata": {},
     "output_type": "execute_result"
    }
   ],
   "source": [
    "## Combined List\n",
    "text_corpus = emma_tokens + sense_tokens\n",
    "type(text_corpus)"
   ]
  },
  {
   "cell_type": "markdown",
   "metadata": {},
   "source": [
    "Then, generate a `gensim.corpora.Dictionary` based on the above list."
   ]
  },
  {
   "cell_type": "code",
   "execution_count": 8,
   "metadata": {},
   "outputs": [
    {
     "name": "stdout",
     "output_type": "stream",
     "text": [
      "Dictionary(9090 unique tokens: ['emma', 'by', 'jane', 'austen', '1816']...)\n"
     ]
    }
   ],
   "source": [
    "import pprint\n",
    "# Create a set of frequent words to drop\n",
    "stoplist = ''\n",
    "\n",
    "# Lowercase each document, split it by white space and filter out stopwords\n",
    "texts = [[word for word in document.lower().split() if word not in stoplist]\n",
    "         for document in text_corpus]\n",
    "\n",
    "# Count word frequencies\n",
    "from collections import defaultdict\n",
    "frequency = defaultdict(int)\n",
    "for text in texts:\n",
    "    for token in text:\n",
    "        frequency[token] += 1\n",
    "\n",
    "# Only keep words that appear even once\n",
    "processed_corpus = [[token for token in text if frequency[token] > 0] for text in texts]\n",
    "## pprint.pprint(processed_corpus)\n",
    "\n",
    "from gensim import corpora\n",
    "\n",
    "dictionary = corpora.Dictionary(processed_corpus)\n",
    "print(dictionary)"
   ]
  },
  {
   "cell_type": "code",
   "execution_count": 9,
   "metadata": {},
   "outputs": [
    {
     "data": {
      "text/plain": [
       "gensim.corpora.dictionary.Dictionary"
      ]
     },
     "execution_count": 9,
     "metadata": {},
     "output_type": "execute_result"
    }
   ],
   "source": [
    "type(dictionary)"
   ]
  },
  {
   "cell_type": "markdown",
   "metadata": {},
   "source": [
    "Finally, create a data frame of three columns: (1) frquency of token in the first novel (`emma`), (2) frquency of token in the second novel (`sense`), and (3) the total frequency of token in the corpus. The unique tokens are used as the shared index."
   ]
  },
  {
   "cell_type": "code",
   "execution_count": 10,
   "metadata": {},
   "outputs": [
    {
     "data": {
      "text/html": [
       "<div>\n",
       "<style scoped>\n",
       "    .dataframe tbody tr th:only-of-type {\n",
       "        vertical-align: middle;\n",
       "    }\n",
       "\n",
       "    .dataframe tbody tr th {\n",
       "        vertical-align: top;\n",
       "    }\n",
       "\n",
       "    .dataframe thead th {\n",
       "        text-align: right;\n",
       "    }\n",
       "</style>\n",
       "<table border=\"1\" class=\"dataframe\">\n",
       "  <thead>\n",
       "    <tr style=\"text-align: right;\">\n",
       "      <th></th>\n",
       "      <th>word</th>\n",
       "      <th>Emma</th>\n",
       "    </tr>\n",
       "  </thead>\n",
       "  <tbody>\n",
       "    <tr>\n",
       "      <th>0</th>\n",
       "      <td>to</td>\n",
       "      <td>5242</td>\n",
       "    </tr>\n",
       "    <tr>\n",
       "      <th>1</th>\n",
       "      <td>the</td>\n",
       "      <td>5204</td>\n",
       "    </tr>\n",
       "    <tr>\n",
       "      <th>2</th>\n",
       "      <td>and</td>\n",
       "      <td>4897</td>\n",
       "    </tr>\n",
       "    <tr>\n",
       "      <th>3</th>\n",
       "      <td>of</td>\n",
       "      <td>4293</td>\n",
       "    </tr>\n",
       "    <tr>\n",
       "      <th>4</th>\n",
       "      <td>i</td>\n",
       "      <td>3192</td>\n",
       "    </tr>\n",
       "    <tr>\n",
       "      <th>...</th>\n",
       "      <td>...</td>\n",
       "      <td>...</td>\n",
       "    </tr>\n",
       "    <tr>\n",
       "      <th>7098</th>\n",
       "      <td>vacancies</td>\n",
       "      <td>1</td>\n",
       "    </tr>\n",
       "    <tr>\n",
       "      <th>7099</th>\n",
       "      <td>reappearance</td>\n",
       "      <td>1</td>\n",
       "    </tr>\n",
       "    <tr>\n",
       "      <th>7100</th>\n",
       "      <td>shoulder</td>\n",
       "      <td>1</td>\n",
       "    </tr>\n",
       "    <tr>\n",
       "      <th>7101</th>\n",
       "      <td>invariable</td>\n",
       "      <td>1</td>\n",
       "    </tr>\n",
       "    <tr>\n",
       "      <th>7102</th>\n",
       "      <td>finis</td>\n",
       "      <td>1</td>\n",
       "    </tr>\n",
       "  </tbody>\n",
       "</table>\n",
       "<p>7103 rows × 2 columns</p>\n",
       "</div>"
      ],
      "text/plain": [
       "              word  Emma\n",
       "0               to  5242\n",
       "1              the  5204\n",
       "2              and  4897\n",
       "3               of  4293\n",
       "4                i  3192\n",
       "...            ...   ...\n",
       "7098     vacancies     1\n",
       "7099  reappearance     1\n",
       "7100      shoulder     1\n",
       "7101    invariable     1\n",
       "7102         finis     1\n",
       "\n",
       "[7103 rows x 2 columns]"
      ]
     },
     "execution_count": 10,
     "metadata": {},
     "output_type": "execute_result"
    }
   ],
   "source": [
    "# Count word frequencies\n",
    "from collections import defaultdict\n",
    "frequency_emma = defaultdict(int)\n",
    "for token in emma_tokens:\n",
    "    frequency_emma[token] += 1\n",
    "    \n",
    "# Convert to data frame\n",
    "import pandas as pd\n",
    "\n",
    "data1 = pd.Series(frequency_emma)\n",
    "df1 = pd.DataFrame({'Emma':data1})\n",
    "df1 = df1.sort_values(by=['Emma'],ascending=False)\n",
    "df1.index.name = 'word'\n",
    "df1.reset_index(inplace=True)\n",
    "df1"
   ]
  },
  {
   "cell_type": "code",
   "execution_count": 11,
   "metadata": {},
   "outputs": [
    {
     "data": {
      "text/html": [
       "<div>\n",
       "<style scoped>\n",
       "    .dataframe tbody tr th:only-of-type {\n",
       "        vertical-align: middle;\n",
       "    }\n",
       "\n",
       "    .dataframe tbody tr th {\n",
       "        vertical-align: top;\n",
       "    }\n",
       "\n",
       "    .dataframe thead th {\n",
       "        text-align: right;\n",
       "    }\n",
       "</style>\n",
       "<table border=\"1\" class=\"dataframe\">\n",
       "  <thead>\n",
       "    <tr style=\"text-align: right;\">\n",
       "      <th></th>\n",
       "      <th>word</th>\n",
       "      <th>Sense</th>\n",
       "    </tr>\n",
       "  </thead>\n",
       "  <tbody>\n",
       "    <tr>\n",
       "      <th>0</th>\n",
       "      <td>to</td>\n",
       "      <td>4116</td>\n",
       "    </tr>\n",
       "    <tr>\n",
       "      <th>1</th>\n",
       "      <td>the</td>\n",
       "      <td>4105</td>\n",
       "    </tr>\n",
       "    <tr>\n",
       "      <th>2</th>\n",
       "      <td>of</td>\n",
       "      <td>3572</td>\n",
       "    </tr>\n",
       "    <tr>\n",
       "      <th>3</th>\n",
       "      <td>and</td>\n",
       "      <td>3491</td>\n",
       "    </tr>\n",
       "    <tr>\n",
       "      <th>4</th>\n",
       "      <td>her</td>\n",
       "      <td>2551</td>\n",
       "    </tr>\n",
       "    <tr>\n",
       "      <th>...</th>\n",
       "      <td>...</td>\n",
       "      <td>...</td>\n",
       "    </tr>\n",
       "    <tr>\n",
       "      <th>6331</th>\n",
       "      <td>coxcombs</td>\n",
       "      <td>1</td>\n",
       "    </tr>\n",
       "    <tr>\n",
       "      <th>6332</th>\n",
       "      <td>modestest</td>\n",
       "      <td>1</td>\n",
       "    </tr>\n",
       "    <tr>\n",
       "      <th>6333</th>\n",
       "      <td>prettiest</td>\n",
       "      <td>1</td>\n",
       "    </tr>\n",
       "    <tr>\n",
       "      <th>6334</th>\n",
       "      <td>lip</td>\n",
       "      <td>1</td>\n",
       "    </tr>\n",
       "    <tr>\n",
       "      <th>6335</th>\n",
       "      <td>producing</td>\n",
       "      <td>1</td>\n",
       "    </tr>\n",
       "  </tbody>\n",
       "</table>\n",
       "<p>6336 rows × 2 columns</p>\n",
       "</div>"
      ],
      "text/plain": [
       "           word  Sense\n",
       "0            to   4116\n",
       "1           the   4105\n",
       "2            of   3572\n",
       "3           and   3491\n",
       "4           her   2551\n",
       "...         ...    ...\n",
       "6331   coxcombs      1\n",
       "6332  modestest      1\n",
       "6333  prettiest      1\n",
       "6334        lip      1\n",
       "6335  producing      1\n",
       "\n",
       "[6336 rows x 2 columns]"
      ]
     },
     "execution_count": 11,
     "metadata": {},
     "output_type": "execute_result"
    }
   ],
   "source": [
    "# Count word frequencies\n",
    "frequency_sense = defaultdict(int)\n",
    "for token in sense_tokens:\n",
    "    frequency_sense[token] += 1\n",
    "\n",
    "# Convert to data frame\n",
    "import pandas as pd\n",
    "\n",
    "data2 = pd.Series(frequency_sense)\n",
    "df2 = pd.DataFrame({'Sense':data2})\n",
    "df2 = df2.sort_values(by=['Sense'],ascending=False)\n",
    "df2.index.name = 'word'\n",
    "df2.reset_index(inplace=True)\n",
    "df2"
   ]
  },
  {
   "cell_type": "code",
   "execution_count": 12,
   "metadata": {},
   "outputs": [
    {
     "data": {
      "text/html": [
       "<div>\n",
       "<style scoped>\n",
       "    .dataframe tbody tr th:only-of-type {\n",
       "        vertical-align: middle;\n",
       "    }\n",
       "\n",
       "    .dataframe tbody tr th {\n",
       "        vertical-align: top;\n",
       "    }\n",
       "\n",
       "    .dataframe thead th {\n",
       "        text-align: right;\n",
       "    }\n",
       "</style>\n",
       "<table border=\"1\" class=\"dataframe\">\n",
       "  <thead>\n",
       "    <tr style=\"text-align: right;\">\n",
       "      <th></th>\n",
       "      <th>word</th>\n",
       "      <th>Total</th>\n",
       "    </tr>\n",
       "  </thead>\n",
       "  <tbody>\n",
       "    <tr>\n",
       "      <th>0</th>\n",
       "      <td>to</td>\n",
       "      <td>9358</td>\n",
       "    </tr>\n",
       "    <tr>\n",
       "      <th>1</th>\n",
       "      <td>the</td>\n",
       "      <td>9309</td>\n",
       "    </tr>\n",
       "    <tr>\n",
       "      <th>2</th>\n",
       "      <td>and</td>\n",
       "      <td>8388</td>\n",
       "    </tr>\n",
       "    <tr>\n",
       "      <th>3</th>\n",
       "      <td>of</td>\n",
       "      <td>7865</td>\n",
       "    </tr>\n",
       "    <tr>\n",
       "      <th>4</th>\n",
       "      <td>a</td>\n",
       "      <td>5222</td>\n",
       "    </tr>\n",
       "    <tr>\n",
       "      <th>...</th>\n",
       "      <td>...</td>\n",
       "      <td>...</td>\n",
       "    </tr>\n",
       "    <tr>\n",
       "      <th>9085</th>\n",
       "      <td>fed</td>\n",
       "      <td>1</td>\n",
       "    </tr>\n",
       "    <tr>\n",
       "      <th>9086</th>\n",
       "      <td>importation</td>\n",
       "      <td>1</td>\n",
       "    </tr>\n",
       "    <tr>\n",
       "      <th>9087</th>\n",
       "      <td>novelties</td>\n",
       "      <td>1</td>\n",
       "    </tr>\n",
       "    <tr>\n",
       "      <th>9088</th>\n",
       "      <td>interchange</td>\n",
       "      <td>1</td>\n",
       "    </tr>\n",
       "    <tr>\n",
       "      <th>9089</th>\n",
       "      <td>ranked</td>\n",
       "      <td>1</td>\n",
       "    </tr>\n",
       "  </tbody>\n",
       "</table>\n",
       "<p>9090 rows × 2 columns</p>\n",
       "</div>"
      ],
      "text/plain": [
       "             word  Total\n",
       "0              to   9358\n",
       "1             the   9309\n",
       "2             and   8388\n",
       "3              of   7865\n",
       "4               a   5222\n",
       "...           ...    ...\n",
       "9085          fed      1\n",
       "9086  importation      1\n",
       "9087    novelties      1\n",
       "9088  interchange      1\n",
       "9089       ranked      1\n",
       "\n",
       "[9090 rows x 2 columns]"
      ]
     },
     "execution_count": 12,
     "metadata": {},
     "output_type": "execute_result"
    }
   ],
   "source": [
    "# Count word frequencies\n",
    "frequency_all = defaultdict(int)\n",
    "for token in text_corpus:\n",
    "    frequency_all[token] += 1\n",
    "\n",
    "# Convert to data frame\n",
    "import pandas as pd\n",
    "\n",
    "data3 = pd.Series(frequency_all)\n",
    "df3 = pd.DataFrame({'Total':data3})\n",
    "df3 = df3.sort_values(by=['Total'],ascending=False)\n",
    "df3.index.name = 'word'\n",
    "df3.reset_index(inplace=True)\n",
    "df3"
   ]
  },
  {
   "cell_type": "code",
   "execution_count": 13,
   "metadata": {},
   "outputs": [
    {
     "data": {
      "text/html": [
       "<div>\n",
       "<style scoped>\n",
       "    .dataframe tbody tr th:only-of-type {\n",
       "        vertical-align: middle;\n",
       "    }\n",
       "\n",
       "    .dataframe tbody tr th {\n",
       "        vertical-align: top;\n",
       "    }\n",
       "\n",
       "    .dataframe thead th {\n",
       "        text-align: right;\n",
       "    }\n",
       "</style>\n",
       "<table border=\"1\" class=\"dataframe\">\n",
       "  <thead>\n",
       "    <tr style=\"text-align: right;\">\n",
       "      <th></th>\n",
       "      <th>Emma</th>\n",
       "      <th>Sense</th>\n",
       "      <th>Total</th>\n",
       "    </tr>\n",
       "    <tr>\n",
       "      <th>word</th>\n",
       "      <th></th>\n",
       "      <th></th>\n",
       "      <th></th>\n",
       "    </tr>\n",
       "  </thead>\n",
       "  <tbody>\n",
       "    <tr>\n",
       "      <th>to</th>\n",
       "      <td>5242.0</td>\n",
       "      <td>4116.0</td>\n",
       "      <td>9358</td>\n",
       "    </tr>\n",
       "    <tr>\n",
       "      <th>the</th>\n",
       "      <td>5204.0</td>\n",
       "      <td>4105.0</td>\n",
       "      <td>9309</td>\n",
       "    </tr>\n",
       "    <tr>\n",
       "      <th>and</th>\n",
       "      <td>4897.0</td>\n",
       "      <td>3491.0</td>\n",
       "      <td>8388</td>\n",
       "    </tr>\n",
       "    <tr>\n",
       "      <th>of</th>\n",
       "      <td>4293.0</td>\n",
       "      <td>3572.0</td>\n",
       "      <td>7865</td>\n",
       "    </tr>\n",
       "    <tr>\n",
       "      <th>a</th>\n",
       "      <td>3130.0</td>\n",
       "      <td>2092.0</td>\n",
       "      <td>5222</td>\n",
       "    </tr>\n",
       "    <tr>\n",
       "      <th>...</th>\n",
       "      <td>...</td>\n",
       "      <td>...</td>\n",
       "      <td>...</td>\n",
       "    </tr>\n",
       "    <tr>\n",
       "      <th>fed</th>\n",
       "      <td>1.0</td>\n",
       "      <td>NaN</td>\n",
       "      <td>1</td>\n",
       "    </tr>\n",
       "    <tr>\n",
       "      <th>importation</th>\n",
       "      <td>1.0</td>\n",
       "      <td>NaN</td>\n",
       "      <td>1</td>\n",
       "    </tr>\n",
       "    <tr>\n",
       "      <th>novelties</th>\n",
       "      <td>1.0</td>\n",
       "      <td>NaN</td>\n",
       "      <td>1</td>\n",
       "    </tr>\n",
       "    <tr>\n",
       "      <th>interchange</th>\n",
       "      <td>1.0</td>\n",
       "      <td>NaN</td>\n",
       "      <td>1</td>\n",
       "    </tr>\n",
       "    <tr>\n",
       "      <th>ranked</th>\n",
       "      <td>NaN</td>\n",
       "      <td>1.0</td>\n",
       "      <td>1</td>\n",
       "    </tr>\n",
       "  </tbody>\n",
       "</table>\n",
       "<p>9090 rows × 3 columns</p>\n",
       "</div>"
      ],
      "text/plain": [
       "               Emma   Sense  Total\n",
       "word                              \n",
       "to           5242.0  4116.0   9358\n",
       "the          5204.0  4105.0   9309\n",
       "and          4897.0  3491.0   8388\n",
       "of           4293.0  3572.0   7865\n",
       "a            3130.0  2092.0   5222\n",
       "...             ...     ...    ...\n",
       "fed             1.0     NaN      1\n",
       "importation     1.0     NaN      1\n",
       "novelties       1.0     NaN      1\n",
       "interchange     1.0     NaN      1\n",
       "ranked          NaN     1.0      1\n",
       "\n",
       "[9090 rows x 3 columns]"
      ]
     },
     "execution_count": 13,
     "metadata": {},
     "output_type": "execute_result"
    }
   ],
   "source": [
    "merged_df = pd.merge(left=df1, right=df3, how = 'right', left_on='word', right_on='word')\n",
    "merged_df2 = pd.merge(left=df2, right=df3, how = 'right', left_on='word', right_on='word')\n",
    "final_df = pd.merge(left = merged_df, right = merged_df2, how = \"inner\", left_on = \"word\", right_on = \"word\")\n",
    "final_df = final_df.drop(columns = ['Total_x'])\n",
    "final_df = final_df.rename(columns={\"Total_y\": \"Total\"})\n",
    "final_df = final_df.set_index('word')\n",
    "final_df"
   ]
  },
  {
   "cell_type": "markdown",
   "metadata": {},
   "source": [
    "## 3. Exploring Term Frequencies\n",
    "\n",
    "### a) Long Tail Distribution (10 points)\n",
    "\n",
    "Using bar plots, where the x-axis lays out term indexes by decreading term frequency and the y-axix shows the raw frequency, check if the term frequencies in each novel follows a highly skewed distribution, with a long tail to the right. "
   ]
  },
  {
   "cell_type": "code",
   "execution_count": 16,
   "metadata": {},
   "outputs": [
    {
     "name": "stdout",
     "output_type": "stream",
     "text": [
      "[   1    2    3 ... 7101 7102 7103]\n"
     ]
    },
    {
     "data": {
      "image/png": "[encoded data removed]",
      "text/plain": [
       "<Figure size 432x288 with 1 Axes>"
      ]
     },
     "metadata": {
      "needs_background": "light"
     },
     "output_type": "display_data"
    }
   ],
   "source": [
    "import numpy as np\n",
    "import matplotlib.pyplot as plt\n",
    "term_rank_1 = np.arange(data1.size) + 1\n",
    "print(term_rank_1)\n",
    "\n",
    "# basic bars\n",
    "plt.bar(term_rank_1, df1['Emma'], align='center',width = 75,alpha=0.5)\n",
    "plt.title('Distribution of Emma')\n",
    "plt.ylabel('Frequency')\n",
    "plt.show()"
   ]
  },
  {
   "cell_type": "code",
   "execution_count": 15,
   "metadata": {},
   "outputs": [
    {
     "name": "stdout",
     "output_type": "stream",
     "text": [
      "[   1    2    3 ... 6334 6335 6336]\n"
     ]
    },
    {
     "data": {
      "image/png": "[encoded data removed]",
      "text/plain": [
       "<Figure size 432x288 with 1 Axes>"
      ]
     },
     "metadata": {
      "needs_background": "light"
     },
     "output_type": "display_data"
    }
   ],
   "source": [
    "term_rank_2 = np.arange(data2.size) + 1\n",
    "print(term_rank_2)\n",
    "\n",
    "# basic bars\n",
    "plt.bar(term_rank_2, df2['Sense'], align='center', width = 75, alpha=0.5)\n",
    "plt.title('Distribution of Sense')\n",
    "plt.ylabel('Frequency')\n",
    "plt.show()"
   ]
  },
  {
   "cell_type": "markdown",
   "metadata": {},
   "source": [
    "### b) Log-Log Plot (10 points)\n",
    "\n",
    "Using the log scale on both x and y axes, represent the rank-frequency plot of both novels in the same plot. Do you see a pattern?"
   ]
  },
  {
   "cell_type": "code",
   "execution_count": 19,
   "metadata": {},
   "outputs": [
    {
     "data": {
      "image/png": "[encoded data removed]",
      "text/plain": [
       "<Figure size 432x288 with 1 Axes>"
      ]
     },
     "metadata": {
      "needs_background": "light"
     },
     "output_type": "display_data"
    }
   ],
   "source": [
    "# log xy-axis\n",
    "plt.plot(term_rank_1, df1['Emma'], label = \"line1\", alpha=0.5)\n",
    "plt.plot(term_rank_2, df2['Sense'], label = \"line2\", alpha=0.5)\n",
    "plt.ylabel('Frequency')\n",
    "plt.yscale('log')\n",
    "plt.xscale('log')\n",
    "plt.show()"
   ]
  },
  {
   "cell_type": "markdown",
   "metadata": {},
   "source": [
    "Response: As depcited in the plot above, both the plots for both the novels follow a similar pattern, beginning from high frequency of words and than gradually going down."
   ]
  },
  {
   "cell_type": "markdown",
   "metadata": {},
   "source": [
    "## Bonus Questions\n",
    "\n",
    "### a) Differentiating Features\n",
    "\n",
    "Comparing the term frequency vectors of the two novels, which terms are the most different in distrubtion?\n",
    "Run a chi-square test for each term between the documents and report top 100 terms with the smallest p-values.\n",
    "Among these 100 terms, which ones over-reprsent in each novel?"
   ]
  },
  {
   "cell_type": "code",
   "execution_count": null,
   "metadata": {},
   "outputs": [],
   "source": []
  },
  {
   "cell_type": "markdown",
   "metadata": {},
   "source": [
    "### b) Sentence Level Modeling\n",
    "\n",
    "In the above problems, we assumed that each novel/book is a document. Now, let's focus on all sentences in the novel *Emma*. In other words, we treat each sentence as a document, and the novel itself as the corpus. Build a bag-of-words representation and then convert it into TF-IDF. Which 20 terms had the highest IDF scores?"
   ]
  },
  {
   "cell_type": "code",
   "execution_count": null,
   "metadata": {},
   "outputs": [],
   "source": []
  }
 ],
 "metadata": {
  "kernelspec": {
   "display_name": "Python 3",
   "language": "python",
   "name": "python3"
  },
  "language_info": {
   "codemirror_mode": {
    "name": "ipython",
    "version": 3
   },
   "file_extension": ".py",
   "mimetype": "text/x-python",
   "name": "python",
   "nbconvert_exporter": "python",
   "pygments_lexer": "ipython3",
   "version": "3.7.4"
  }
 },
 "nbformat": 4,
 "nbformat_minor": 4
}
